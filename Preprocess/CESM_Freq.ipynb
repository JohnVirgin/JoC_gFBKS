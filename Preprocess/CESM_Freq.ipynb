{
 "cells": [
  {
   "cell_type": "code",
   "execution_count": 3,
   "metadata": {},
   "outputs": [],
   "source": [
    "import numpy as np\n",
    "import xarray as xr\n",
    "import pickle as pk\n",
    "import pandas as pd\n",
    "from matplotlib import pyplot as plt\n",
    "from math import erfc\n",
    "import math\n",
    "from scipy.optimize import curve_fit as curve_fit"
   ]
  },
  {
   "cell_type": "code",
   "execution_count": 12,
   "metadata": {},
   "outputs": [],
   "source": [
    "path = '/Volumes/eSSD0/Papers/JoC_gFBK/Data/SI/'\n",
    "\n",
    "sino = pk.load(open(path+'b.e12.SI.T31_g37.039rad.ctl.2_ctl_diag.pk','rb'))\n",
    "pic = pk.load(open(path+'b.e12.pi-control.T31_g37.ctl.2_ctl_diag.pk','rb'))\n",
    "pic_tas = pic['tas'][-1]\n",
    "sino_tas_gam = sino['tas']\n",
    "sino_tsi_gam = sino['TSI']\n",
    "sino_dtas_gam = sino_tas_gam-pic_tas"
   ]
  },
  {
   "cell_type": "code",
   "execution_count": 13,
   "metadata": {},
   "outputs": [],
   "source": [
    "def fit_sin(tt, yy):\n",
    "    '''Fit sin to the input time sequence'''\n",
    "    tt = np.array(tt)\n",
    "    yy = np.array(yy)\n",
    "    ff = np.fft.fftfreq(len(tt), (tt[1]-tt[0]))\n",
    "    Fyy = abs(np.fft.fft(yy))\n",
    "    guess_freq = abs(ff[np.argmax(Fyy[1:])+1])   # excluding the zero frequency \"peak\", which is related to offset\n",
    "    guess_amp = np.std(yy) * 2.**0.5\n",
    "    guess_offset = np.mean(yy)\n",
    "    guess = np.array([guess_amp, 2.*np.pi*guess_freq, 0., guess_offset])\n",
    "\n",
    "    def sinfunc(t, A, w, p, c):  return A * np.sin(w*t + p) + c\n",
    "    popt, pcov = curve_fit(sinfunc, tt, yy, p0=guess)\n",
    "    A, w, p, c = popt\n",
    "    f = w/(2.*np.pi)\n",
    "    fitfunc = lambda t: A * np.sin(w*t + p) + c\n",
    "    return {\"amp\": A, \"omega\": w, \"phase\": p, \"offset\": c, \"freq\": f, \"period\": 1./f, \"fitfunc\": fitfunc, \"maxcov\": np.max(pcov), \"rawres\": (guess,popt,pcov)}\n",
    "\n",
    "def find_nearest(array, value):\n",
    "    array = np.asarray(array)\n",
    "    idx = (np.abs(array - value)).argmin()\n",
    "    return idx\n",
    "\n",
    "def ki(mag,lag,pm,crossfreq):\n",
    "    lag_r = math.radians(lag)\n",
    "    pm_r = math.radians(pm)\n",
    "    return (crossfreq/mag)/(np.sqrt(1+(np.tan(pm_r-(np.pi/2)-lag_r)**2)))\n",
    "\n",
    "def kp (ki,lag,pm,crossfreq):\n",
    "    lag_r = math.radians(lag)\n",
    "    pm_r = math.radians(pm)\n",
    "    return (ki/crossfreq)*np.tan(pm_r-(np.pi/2)-lag_r)"
   ]
  },
  {
   "cell_type": "code",
   "execution_count": 14,
   "metadata": {},
   "outputs": [
    {
     "name": "stdout",
     "output_type": "stream",
     "text": [
      "Angular Frequency = 0.39 radians\n",
      "\n",
      "Tas data specs\n",
      "Amplitude=0.3650798708892348\n",
      "Angular freq.=0.3921951606698162\n",
      "phase=-0.03665504982346449\n",
      "freq=0.06241979847732135\n",
      "period=16.020557970294067\n",
      "offset=-0.020869992164110115 \n",
      "\n"
     ]
    }
   ],
   "source": [
    "print(f'Angular Frequency = 0.39 radians\\n')\n",
    "ts_fit = fit_sin(np.arange(len(sino_tas_gam)),sino_dtas_gam)\n",
    "ts_sin = ts_fit['fitfunc'](np.arange(len(sino_tas_gam)))\n",
    "print('Tas data specs')\n",
    "print( \"Amplitude=%(amp)s\\nAngular freq.=%(omega)s\\nphase=%(phase)s\\nfreq=%(freq)s\\nperiod=%(period)s\\noffset=%(offset)s\" % ts_fit,'\\n')"
   ]
  },
  {
   "cell_type": "code",
   "execution_count": 15,
   "metadata": {},
   "outputs": [
    {
     "name": "stdout",
     "output_type": "stream",
     "text": [
      "Angular Frequency = 0.39 radians\n",
      "\n",
      "Tas data specs\n",
      "Amplitude=13.350906677798855\n",
      "Angular freq.=0.3926990816987241\n",
      "phase=0.40971017105919993\n",
      "freq=0.06249999999999999\n",
      "period=16.000000000000004\n",
      "offset=1360.89 \n",
      "\n"
     ]
    }
   ],
   "source": [
    "print(f'Angular Frequency = 0.39 radians\\n')\n",
    "tsi_fit = fit_sin(np.arange(len(sino_tsi_gam)),sino_tsi_gam)\n",
    "tsi_sin = ts_fit['fitfunc'](np.arange(len(sino_tsi_gam)))\n",
    "print('Tas data specs')\n",
    "print( \"Amplitude=%(amp)s\\nAngular freq.=%(omega)s\\nphase=%(phase)s\\nfreq=%(freq)s\\nperiod=%(period)s\\noffset=%(offset)s\" % tsi_fit,'\\n')"
   ]
  },
  {
   "cell_type": "code",
   "execution_count": 17,
   "metadata": {},
   "outputs": [
    {
     "name": "stdout",
     "output_type": "stream",
     "text": [
      "Amplitude Gain - 0.37 K/%\n",
      "Phase lag - -25.57 degrees\n",
      "\n"
     ]
    }
   ],
   "source": [
    "Gs_mag = (ts_fit['amp']/tsi_fit['amp'])*tsi_fit['amp'] #convert from W/m2 to % SOL\n",
    "Gs_phase = (ts_fit['phase']-tsi_fit['phase'])*(180/np.pi)\n",
    "print(f'Amplitude Gain - {round(Gs_mag,2)} K/%\\nPhase lag - {round(Gs_phase,2)} degrees\\n')"
   ]
  },
  {
   "cell_type": "code",
   "execution_count": 25,
   "metadata": {},
   "outputs": [
    {
     "name": "stdout",
     "output_type": "stream",
     "text": [
      "Ki = 0.3986606372207463\n",
      "Kp = 1.015638701878181\n",
      "Phase Margin = 84 degrees\n"
     ]
    }
   ],
   "source": [
    "#sample values from bens papers\n",
    "wi_s = 0.2\n",
    "mag_s = 0.447\n",
    "phase_s = 33\n",
    "pm_s = 84\n",
    "\n",
    "gs_i = ki(mag_s,-phase_s,pm_s,wi_s)\n",
    "gs_k = kp(gs_i,-phase_s,pm_s,wi_s)\n",
    "\n",
    "print(f'Ki = {gs_i}\\nKp = {gs_k}\\nPhase Margin = {pm_s} degrees')"
   ]
  },
  {
   "cell_type": "code",
   "execution_count": 18,
   "metadata": {},
   "outputs": [
    {
     "name": "stdout",
     "output_type": "stream",
     "text": [
      "Ki = 1.0225712673283145\n",
      "Kp = 0.8498388537684161\n",
      "Phase Margin = 60 degrees\n",
      "Total Phase Lag = 48 degrees\n",
      "\n"
     ]
    }
   ],
   "source": [
    "#phase margin\n",
    "pm = 60\n",
    "wi = tsi_fit['omega']\n",
    "lag = np.abs(Gs_phase)+ math.degrees(wi)\n",
    "gi = ki(Gs_mag,-lag,pm,wi)\n",
    "gk = kp(gi,-lag,pm,wi)\n",
    "print(f'Ki = {gi}\\nKp = {gk}\\nPhase Margin = {pm} degrees')\n",
    "print(f'Total Phase Lag = {int(lag)} degrees\\n')\n"
   ]
  },
  {
   "cell_type": "code",
   "execution_count": 26,
   "metadata": {},
   "outputs": [
    {
     "data": {
      "text/plain": [
       "11.459155902616466"
      ]
     },
     "execution_count": 26,
     "metadata": {},
     "output_type": "execute_result"
    }
   ],
   "source": [
    "math.degrees(0.2)"
   ]
  },
  {
   "cell_type": "code",
   "execution_count": 22,
   "metadata": {},
   "outputs": [
    {
     "data": {
      "text/plain": [
       "48.074843278001424"
      ]
     },
     "execution_count": 22,
     "metadata": {},
     "output_type": "execute_result"
    }
   ],
   "source": [
    "lag"
   ]
  },
  {
   "cell_type": "code",
   "execution_count": 23,
   "metadata": {},
   "outputs": [
    {
     "data": {
      "text/plain": [
       "25.57484327800143"
      ]
     },
     "execution_count": 23,
     "metadata": {},
     "output_type": "execute_result"
    }
   ],
   "source": [
    "np.abs(Gs_phase)"
   ]
  },
  {
   "cell_type": "code",
   "execution_count": 24,
   "metadata": {},
   "outputs": [
    {
     "data": {
      "text/plain": [
       "48.074843278001424"
      ]
     },
     "execution_count": 24,
     "metadata": {},
     "output_type": "execute_result"
    }
   ],
   "source": [
    "lag"
   ]
  },
  {
   "cell_type": "code",
   "execution_count": null,
   "metadata": {},
   "outputs": [],
   "source": []
  }
 ],
 "metadata": {
  "kernelspec": {
   "display_name": "Python 3.9.12 ('base')",
   "language": "python",
   "name": "python3"
  },
  "language_info": {
   "codemirror_mode": {
    "name": "ipython",
    "version": 3
   },
   "file_extension": ".py",
   "mimetype": "text/x-python",
   "name": "python",
   "nbconvert_exporter": "python",
   "pygments_lexer": "ipython3",
   "version": "3.9.12"
  },
  "orig_nbformat": 4,
  "vscode": {
   "interpreter": {
    "hash": "a6b2e8557b9a16f9cbdb3738c5bb141844cee91c532915141431ba2f8660bf52"
   }
  }
 },
 "nbformat": 4,
 "nbformat_minor": 2
}
