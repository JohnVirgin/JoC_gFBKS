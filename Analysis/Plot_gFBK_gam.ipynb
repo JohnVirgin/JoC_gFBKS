{
 "cells": [
  {
   "cell_type": "code",
   "execution_count": 1,
   "metadata": {},
   "outputs": [],
   "source": [
    "import numpy as np\n",
    "import xarray as xr\n",
    "import pickle as pk\n",
    "import pandas as pd\n",
    "from matplotlib import pyplot as plt\n",
    "from sklearn.linear_model import LinearRegression as lr \n",
    "from sklearn.metrics import r2_score as r2_score\n",
    "from scipy.optimize import curve_fit as curve_fit\n",
    "import statsmodels.api as sm\n",
    "import matplotlib as mpl\n",
    "mpl.rc('font',size=16,**{'family':'sans-serif','sans-serif':['Arial']})"
   ]
  },
  {
   "cell_type": "code",
   "execution_count": 2,
   "metadata": {},
   "outputs": [],
   "source": [
    "def int_alpha(ands,ors):\n",
    "    fit = lr().fit(ors,ands)\n",
    "    return fit.intercept_, -fit.coef_\n",
    "def pred(ands,ors):\n",
    "    fit = lr().fit(ors,ands)\n",
    "    ecs = fit.intercept_/-fit.coef_\n",
    "    predict = fit.predict(ors)\n",
    "    score = r2_score(ands,predict)\n",
    "    return predict\n",
    "\n",
    "def scoreme(ands,ors):\n",
    "    fit = lr().fit(ors,ands)\n",
    "    predict = fit.predict(ors)\n",
    "    score = r2_score(ands,predict)\n",
    "    return score"
   ]
  },
  {
   "cell_type": "code",
   "execution_count": 8,
   "metadata": {},
   "outputs": [],
   "source": [
    "#read in step response data\n",
    "path = '/Volumes/eSSD0/Papers/JoC_gFBK/Data/'\n",
    "case = ['ctl.2']\n",
    "\n",
    "    \n",
    "pi = pk.load(open(path+'SI/b.e12.pi-control.T31_g37.ctl.2_ctl_diag.pk','rb'))\n",
    "p1 = pk.load(open(path+'Outputs/b.e12.1pyCO2.T31_g37.ctl.closed.2_ctl_diag.pk','rb'))\n",
    "ebp1  = pk.load(open(path+'Outputs/EB/b.e12.1pyCO2.T31_g37.ctl.closed.2_EB_gam.pk','rb'))\n",
    "ebp1['net'] = ebp1['salb']+ebp1['Planck']+ebp1['lapse']+ebp1['q_tropo']+ebp1['cld_lw']+ebp1['cld_sw']+ebp1['ta_strato']\n",
    "dp1 = ((p1['TSI']-1360.89)/1360.89)*100"
   ]
  },
  {
   "cell_type": "code",
   "execution_count": 9,
   "metadata": {},
   "outputs": [],
   "source": [
    "p1intercepts = {}\n",
    "p1alphas = {}\n",
    "p1prediction = {}\n",
    "\n",
    "for terms in ebp1.keys():\n",
    "\n",
    "    p1intercepts[terms], p1alphas[terms] = int_alpha(ebp1[terms],dp1.reshape(-1,1))\n",
    "    p1prediction[terms] = pred(ebp1[terms],dp1.reshape(-1,1))\n"
   ]
  },
  {
   "cell_type": "code",
   "execution_count": 10,
   "metadata": {},
   "outputs": [],
   "source": [
    "tsi_addcons = sm.add_constant(dp1)\n",
    "regres_ols = {}\n",
    "fit = {}\n",
    "conf = {}\n",
    "error = {}\n",
    "sig = {}\n",
    "for keys in ebp1.keys():\n",
    "    regres_ols[keys] = sm.OLS(ebp1[keys],tsi_addcons)\n",
    "    fit[keys] = regres_ols[keys].fit()\n",
    "    conf[keys] = fit[keys].conf_int()[1,:]\n",
    "    error[keys] = fit[keys].params[1]-conf[keys][0]\n",
    "    sig[keys] = fit[keys].pvalues[1] < 0.05"
   ]
  },
  {
   "cell_type": "code",
   "execution_count": 17,
   "metadata": {},
   "outputs": [
    {
     "data": {
      "text/plain": [
       "<matplotlib.collections.PathCollection at 0x172faad00>"
      ]
     },
     "execution_count": 17,
     "metadata": {},
     "output_type": "execute_result"
    },
    {
     "data": {
      "image/png": "[encoded data removed]",
      "text/plain": [
       "<Figure size 432x288 with 1 Axes>"
      ]
     },
     "metadata": {
      "needs_background": "light"
     },
     "output_type": "display_data"
    }
   ],
   "source": [
    "plt.scatter(ebp1['net'],dp1)"
   ]
  },
  {
   "cell_type": "code",
   "execution_count": 11,
   "metadata": {},
   "outputs": [
    {
     "name": "stdout",
     "output_type": "stream",
     "text": [
      "salb\n",
      "-0.032 , -0.024 , -0.016\n",
      "ta_strato\n",
      "-0.393 , -0.383 , -0.373\n",
      "lapse\n",
      "-0.275 , -0.251 , -0.227\n",
      "Planck\n",
      "-0.169 , -0.119 , -0.069\n",
      "q_strato\n",
      "0.008 , 0.009 , 0.01\n",
      "q_tropo\n",
      "0.236 , 0.275 , 0.314\n",
      "cld_lw\n",
      "0.034 , 0.062 , 0.09\n",
      "cld_sw\n",
      "-0.737 , -0.686 , -0.635\n",
      "IRF\n",
      "1.13 , 1.167 , 1.204\n",
      "cld_sw_lo\n",
      "-0.263 , -0.235 , -0.207\n",
      "cld_sw_hi\n",
      "-0.492 , -0.451 , -0.41\n",
      "cld_lw_lo\n",
      "0.027 , 0.03 , 0.033\n",
      "cld_lw_hi\n",
      "0.003 , 0.032 , 0.061\n",
      "net\n",
      "-1.189 , -1.126 , -1.063\n"
     ]
    }
   ],
   "source": [
    "for keys in error.keys():\n",
    "    print(keys)\n",
    "    print(f'{round(conf[keys][0],3)} , {round(-p1alphas[keys][0],3)} , {round(conf[keys][1],3)}')"
   ]
  },
  {
   "cell_type": "code",
   "execution_count": 12,
   "metadata": {},
   "outputs": [],
   "source": [
    "conffinal = {}\n",
    "conffinal['$\\lambda_{a}$'] = error['salb']\n",
    "conffinal['$\\lambda_{T-s}$'] = error['ta_strato']\n",
    "conffinal['$\\lambda_{P}$'] = error['Planck']\n",
    "conffinal['$\\lambda_{lr}$'] = error['lapse']\n",
    "conffinal['$\\lambda_{wv}$'] = error['q_tropo']\n",
    "conffinal['$\\lambda_{c-lw}$'] = error['cld_lw']\n",
    "conffinal['$\\lambda_{c-sw}$'] = error['cld_sw']\n",
    "conffinal['$\\lambda_{net}$'] = error['net']"
   ]
  },
  {
   "cell_type": "code",
   "execution_count": 13,
   "metadata": {},
   "outputs": [
    {
     "data": {
      "text/plain": [
       "{'$\\\\lambda_{a}$': 0.008270008279933454,\n",
       " '$\\\\lambda_{T-s}$': 0.009848770247892658,\n",
       " '$\\\\lambda_{P}$': 0.05026218732047505,\n",
       " '$\\\\lambda_{lr}$': 0.024017101792302986,\n",
       " '$\\\\lambda_{wv}$': 0.03894289170370682,\n",
       " '$\\\\lambda_{c-lw}$': 0.02815236084787407,\n",
       " '$\\\\lambda_{c-sw}$': 0.0505958641684896,\n",
       " '$\\\\lambda_{net}$': 0.06298385754419322}"
      ]
     },
     "execution_count": 13,
     "metadata": {},
     "output_type": "execute_result"
    }
   ],
   "source": [
    "conffinal"
   ]
  },
  {
   "cell_type": "code",
   "execution_count": 8,
   "metadata": {},
   "outputs": [
    {
     "name": "stderr",
     "output_type": "stream",
     "text": [
      "/Users/johnvirgin/miniconda3/lib/python3.9/site-packages/IPython/core/interactiveshell.py:3338: FutureWarning: arrays to stack must be passed as a \"sequence\" type such as list or tuple. Support for non-sequence iterables such as generators is deprecated as of NumPy 1.16 and will raise an error in the future.\n",
      "  if await self.run_code(code, result, async_=asy):\n"
     ]
    }
   ],
   "source": [
    "error_plot = np.stack(conffinal.values(),axis=0)"
   ]
  },
  {
   "cell_type": "code",
   "execution_count": 9,
   "metadata": {},
   "outputs": [],
   "source": [
    "p1final = {}\n",
    "p1final['$\\lambda_{a}$'] = p1alphas['salb'][0]\n",
    "p1final['$\\lambda_{T-s}$'] = p1alphas['ta_strato'][0]\n",
    "p1final['$\\lambda_{P}$'] = p1alphas['Planck'][0]\n",
    "p1final['$\\lambda_{lr}$'] = p1alphas['lapse'][0]\n",
    "p1final['$\\lambda_{wv}$'] = p1alphas['q_tropo'][0]\n",
    "p1final['$\\lambda_{c-lw}$'] = p1alphas['cld_lw'][0]\n",
    "p1final['$\\lambda_{c-sw}$'] = p1alphas['cld_sw'][0]\n",
    "p1final['$\\lambda_{g}$'] = p1alphas['net'][0]"
   ]
  },
  {
   "cell_type": "code",
   "execution_count": 10,
   "metadata": {},
   "outputs": [
    {
     "data": {
      "image/png": "[encoded data removed]",
      "text/plain": [
       "<Figure size 1500x1500 with 1 Axes>"
      ]
     },
     "metadata": {
      "needs_background": "light"
     },
     "output_type": "display_data"
    }
   ],
   "source": [
    "plt.figure(figsize=(7.5,7.5),dpi=200)\n",
    "\n",
    "plt.subplot(211)\n",
    "plt.bar(np.arange(8),list(p1final.values()), width=0.7,align='center',edgecolor='k', color='grey', yerr=error_plot, capsize=5)\n",
    "plt.axhline(0,color='k',linestyle = '--')\n",
    "plt.axvline(6.5,color='k')\n",
    "plt.grid(axis='y')\n",
    "plt.ylabel('Wm$^{-2}$%$^{-1}$')\n",
    "plt.xticks(np.arange(8),labels = list(p1final.keys()));\n",
    "\n",
    "plt.savefig('gfbk_bar.png',bbox_inches='tight')"
   ]
  },
  {
   "cell_type": "code",
   "execution_count": null,
   "metadata": {},
   "outputs": [],
   "source": []
  }
 ],
 "metadata": {
  "kernelspec": {
   "display_name": "Python 3.9.12 ('base')",
   "language": "python",
   "name": "python3"
  },
  "language_info": {
   "codemirror_mode": {
    "name": "ipython",
    "version": 3
   },
   "file_extension": ".py",
   "mimetype": "text/x-python",
   "name": "python",
   "nbconvert_exporter": "python",
   "pygments_lexer": "ipython3",
   "version": "3.9.12"
  },
  "orig_nbformat": 4,
  "vscode": {
   "interpreter": {
    "hash": "a6b2e8557b9a16f9cbdb3738c5bb141844cee91c532915141431ba2f8660bf52"
   }
  }
 },
 "nbformat": 4,
 "nbformat_minor": 2
}
