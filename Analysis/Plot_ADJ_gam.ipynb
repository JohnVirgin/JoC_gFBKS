{
 "cells": [
  {
   "cell_type": "code",
   "execution_count": 1,
   "metadata": {},
   "outputs": [],
   "source": [
    "import numpy as np\n",
    "import xarray as xr\n",
    "import pickle as pk\n",
    "import pandas as pd\n",
    "from scipy.stats import sem\n",
    "from matplotlib import pyplot as plt\n",
    "from matplotlib.ticker import ScalarFormatter\n",
    "import matplotlib as mpl\n",
    "mpl.rc('font',size=16,**{'family':'sans-serif','sans-serif':['Arial']})"
   ]
  },
  {
   "cell_type": "code",
   "execution_count": 2,
   "metadata": {},
   "outputs": [],
   "source": [
    "adj = {}\n",
    "adj['x4'] = pk.load(open('../Data/Outputs/EB/f.e12.abrupt-4xCO2.T31_g37.ctl.2_EB_gam.pk', 'rb'))\n",
    "adj['sol'] = pk.load(open('../Data/Outputs/EB/f.e12.abrupt-0.96xTSI.T31_g37.ctl.2_EB_gam.pk', 'rb'))\n",
    "\n",
    "adj['x4']['ta_tropo'] = adj['x4']['lapse']+adj['x4']['Planck']\n",
    "adj['sol']['ta_tropo'] = adj['sol']['lapse']+adj['sol']['Planck']\n",
    "\n",
    "adj['net'] = {}\n",
    "for keys in adj['x4'].keys():\n",
    "    adj['net'][keys] = adj['x4'][keys]+adj['sol'][keys]"
   ]
  },
  {
   "cell_type": "code",
   "execution_count": 3,
   "metadata": {},
   "outputs": [
    {
     "data": {
      "text/plain": [
       "array([-1.66872203, -1.38939656, -1.37695876, -1.63964895, -1.56120679,\n",
       "       -1.47929954, -1.74469215, -1.52045722, -1.46570066, -1.46849017,\n",
       "       -1.58812486, -1.6793031 , -1.52933609, -1.52259331, -1.35523274,\n",
       "       -1.52744387, -1.64488157, -1.51896591, -1.52318937, -1.42552005,\n",
       "       -1.48033896, -1.52913756, -1.41682865, -1.37768035, -1.64300006,\n",
       "       -1.58462286, -1.52872881, -1.45550008, -1.59592115, -1.44363421])"
      ]
     },
     "execution_count": 3,
     "metadata": {},
     "output_type": "execute_result"
    }
   ],
   "source": [
    "adj['x4']['Planck']"
   ]
  },
  {
   "cell_type": "code",
   "execution_count": 4,
   "metadata": {},
   "outputs": [
    {
     "data": {
      "text/plain": [
       "array([ 0.13483084, -0.03494887, -0.08446007,  0.17188883,  0.00958192,\n",
       "        0.07534945,  0.03106101,  0.08301015,  0.11958952, -0.05643438,\n",
       "       -0.03333002, -0.03735858, -0.00827261,  0.01449297, -0.03951416,\n",
       "        0.042525  , -0.04492093, -0.06484746, -0.04983411,  0.04350721,\n",
       "       -0.10953262, -0.07060009, -0.02685017, -0.11732854,  0.04067699,\n",
       "        0.05035963,  0.10727591,  0.16585009,  0.04489724, -0.04483982])"
      ]
     },
     "execution_count": 4,
     "metadata": {},
     "output_type": "execute_result"
    }
   ],
   "source": [
    "adj['x4']['lapse']"
   ]
  },
  {
   "cell_type": "code",
   "execution_count": 5,
   "metadata": {},
   "outputs": [
    {
     "data": {
      "text/plain": [
       "array([0.63307978, 0.71170495, 0.65836227, 0.7328777 , 0.7442549 ,\n",
       "       0.82918107, 0.78967292, 0.90890935, 0.75328486, 0.92324462,\n",
       "       0.65370207, 0.7336273 , 0.71776031, 0.75020888, 0.90167075,\n",
       "       0.88272319, 0.70790214, 0.65088393, 0.9097694 , 0.84616008,\n",
       "       0.8556191 , 0.72970663, 0.92065794, 0.84057683, 0.8907641 ,\n",
       "       1.06666169, 0.81981898, 0.79787721, 0.94751027, 0.75423925])"
      ]
     },
     "execution_count": 5,
     "metadata": {},
     "output_type": "execute_result"
    }
   ],
   "source": [
    "adj['sol']['Planck']"
   ]
  },
  {
   "cell_type": "code",
   "execution_count": 6,
   "metadata": {},
   "outputs": [
    {
     "data": {
      "text/plain": [
       "array([0.38313497, 0.43576554, 0.40839312, 0.4858271 , 0.33010311,\n",
       "       0.29567228, 0.37637657, 0.26308218, 0.36713193, 0.38507431,\n",
       "       0.52647642, 0.4463008 , 0.46411421, 0.42606079, 0.50551762,\n",
       "       0.3571189 , 0.4167269 , 0.44964326, 0.21904845, 0.34681956,\n",
       "       0.43001285, 0.44918756, 0.34532782, 0.41976999, 0.42329811,\n",
       "       0.28586184, 0.38715998, 0.48695447, 0.44910947, 0.29346816])"
      ]
     },
     "execution_count": 6,
     "metadata": {},
     "output_type": "execute_result"
    }
   ],
   "source": [
    "adj['sol']['lapse']"
   ]
  },
  {
   "cell_type": "code",
   "execution_count": 7,
   "metadata": {},
   "outputs": [],
   "source": [
    "mn = {}\n",
    "se = {}\n",
    "for exp in adj.keys():\n",
    "    mn[exp] = {}\n",
    "    se[exp] = {}\n",
    "    for just in adj[exp].keys():\n",
    "    \n",
    "        mn[exp][just] = np.nanmean(adj[exp][just])\n",
    "        se[exp][just] = sem(adj[exp][just])\n",
    "\n",
    "se_df = pd.DataFrame.from_dict(se)\n",
    "mn_df = pd.DataFrame.from_dict(mn)"
   ]
  },
  {
   "cell_type": "code",
   "execution_count": 8,
   "metadata": {},
   "outputs": [
    {
     "data": {
      "text/html": [
       "<div>\n",
       "<style scoped>\n",
       "    .dataframe tbody tr th:only-of-type {\n",
       "        vertical-align: middle;\n",
       "    }\n",
       "\n",
       "    .dataframe tbody tr th {\n",
       "        vertical-align: top;\n",
       "    }\n",
       "\n",
       "    .dataframe thead th {\n",
       "        text-align: right;\n",
       "    }\n",
       "</style>\n",
       "<table border=\"1\" class=\"dataframe\">\n",
       "  <thead>\n",
       "    <tr style=\"text-align: right;\">\n",
       "      <th></th>\n",
       "      <th>x4</th>\n",
       "      <th>sol</th>\n",
       "      <th>net</th>\n",
       "    </tr>\n",
       "  </thead>\n",
       "  <tbody>\n",
       "    <tr>\n",
       "      <th>salb</th>\n",
       "      <td>0.245076</td>\n",
       "      <td>-0.168488</td>\n",
       "      <td>0.076587</td>\n",
       "    </tr>\n",
       "    <tr>\n",
       "      <th>ta_strato</th>\n",
       "      <td>1.280879</td>\n",
       "      <td>0.231453</td>\n",
       "      <td>1.512332</td>\n",
       "    </tr>\n",
       "    <tr>\n",
       "      <th>lapse</th>\n",
       "      <td>0.010394</td>\n",
       "      <td>0.395285</td>\n",
       "      <td>0.405679</td>\n",
       "    </tr>\n",
       "    <tr>\n",
       "      <th>Planck</th>\n",
       "      <td>-1.522819</td>\n",
       "      <td>0.802080</td>\n",
       "      <td>-0.720738</td>\n",
       "    </tr>\n",
       "    <tr>\n",
       "      <th>q_strato</th>\n",
       "      <td>0.006466</td>\n",
       "      <td>-0.017574</td>\n",
       "      <td>-0.011107</td>\n",
       "    </tr>\n",
       "    <tr>\n",
       "      <th>q_tropo</th>\n",
       "      <td>0.229205</td>\n",
       "      <td>-0.564704</td>\n",
       "      <td>-0.335500</td>\n",
       "    </tr>\n",
       "    <tr>\n",
       "      <th>cld_lw</th>\n",
       "      <td>-0.262003</td>\n",
       "      <td>0.266337</td>\n",
       "      <td>0.004335</td>\n",
       "    </tr>\n",
       "    <tr>\n",
       "      <th>cld_sw</th>\n",
       "      <td>2.183266</td>\n",
       "      <td>0.112847</td>\n",
       "      <td>2.296114</td>\n",
       "    </tr>\n",
       "    <tr>\n",
       "      <th>IRF</th>\n",
       "      <td>5.363685</td>\n",
       "      <td>-9.226207</td>\n",
       "      <td>-3.862522</td>\n",
       "    </tr>\n",
       "    <tr>\n",
       "      <th>cld_sw_lo</th>\n",
       "      <td>0.529249</td>\n",
       "      <td>0.337247</td>\n",
       "      <td>0.866496</td>\n",
       "    </tr>\n",
       "    <tr>\n",
       "      <th>cld_sw_hi</th>\n",
       "      <td>1.654017</td>\n",
       "      <td>-0.224399</td>\n",
       "      <td>1.429618</td>\n",
       "    </tr>\n",
       "    <tr>\n",
       "      <th>cld_lw_lo</th>\n",
       "      <td>-0.068678</td>\n",
       "      <td>-0.035961</td>\n",
       "      <td>-0.104639</td>\n",
       "    </tr>\n",
       "    <tr>\n",
       "      <th>cld_lw_hi</th>\n",
       "      <td>-0.193324</td>\n",
       "      <td>0.302298</td>\n",
       "      <td>0.108974</td>\n",
       "    </tr>\n",
       "    <tr>\n",
       "      <th>ta_tropo</th>\n",
       "      <td>-1.512424</td>\n",
       "      <td>1.197365</td>\n",
       "      <td>-0.315059</td>\n",
       "    </tr>\n",
       "  </tbody>\n",
       "</table>\n",
       "</div>"
      ],
      "text/plain": [
       "                 x4       sol       net\n",
       "salb       0.245076 -0.168488  0.076587\n",
       "ta_strato  1.280879  0.231453  1.512332\n",
       "lapse      0.010394  0.395285  0.405679\n",
       "Planck    -1.522819  0.802080 -0.720738\n",
       "q_strato   0.006466 -0.017574 -0.011107\n",
       "q_tropo    0.229205 -0.564704 -0.335500\n",
       "cld_lw    -0.262003  0.266337  0.004335\n",
       "cld_sw     2.183266  0.112847  2.296114\n",
       "IRF        5.363685 -9.226207 -3.862522\n",
       "cld_sw_lo  0.529249  0.337247  0.866496\n",
       "cld_sw_hi  1.654017 -0.224399  1.429618\n",
       "cld_lw_lo -0.068678 -0.035961 -0.104639\n",
       "cld_lw_hi -0.193324  0.302298  0.108974\n",
       "ta_tropo  -1.512424  1.197365 -0.315059"
      ]
     },
     "execution_count": 8,
     "metadata": {},
     "output_type": "execute_result"
    }
   ],
   "source": [
    "mn_df"
   ]
  },
  {
   "cell_type": "code",
   "execution_count": 8,
   "metadata": {},
   "outputs": [],
   "source": [
    "conffinal = {}\n",
    "p1final = {}\n",
    "for exp in adj.keys():\n",
    "    conffinal[exp] = {}\n",
    "    p1final[exp] = {}\n",
    "\n",
    "    conffinal[exp]['$\\lambda_{a}$'] = se[exp]['salb']\n",
    "    conffinal[exp]['$\\lambda_{T-s}$'] = se[exp]['ta_strato']\n",
    "    conffinal[exp]['$\\lambda_{P}$'] = se[exp]['Planck']\n",
    "    conffinal[exp]['$\\lambda_{lr}$'] = se[exp]['lapse']\n",
    "    conffinal[exp]['$\\lambda_{wv-t}$'] = se[exp]['q_tropo']+se[exp]['q_strato']\n",
    "    conffinal[exp]['$\\lambda_{c-lw}$'] = se[exp]['cld_lw']\n",
    "    conffinal[exp]['$\\lambda_{c-sw}$'] = se[exp]['cld_sw']\n",
    "\n",
    "    conffinal[exp]['$\\lambda_{net}$'] = np.sum(list(conffinal[exp].values()))\n",
    "\n",
    "    p1final[exp]['$A_{a}$'] = mn[exp]['salb']\n",
    "    p1final[exp]['$A_{T-s}$'] = mn[exp]['ta_strato']\n",
    "    p1final[exp]['$A_{P}$'] = mn[exp]['Planck']\n",
    "    p1final[exp]['$A_{lr}$'] = mn[exp]['lapse']\n",
    "    p1final[exp]['$A_{wv}$'] = mn[exp]['q_tropo']+mn[exp]['q_strato']\n",
    "    p1final[exp]['$A_{c-lw}$'] = mn[exp]['cld_lw']\n",
    "    p1final[exp]['$A_{c-sw}$'] = mn[exp]['cld_sw']\n",
    "\n",
    "    p1final[exp]['$A_{net}$'] = np.sum(list(p1final[exp].values()))"
   ]
  },
  {
   "cell_type": "code",
   "execution_count": 9,
   "metadata": {},
   "outputs": [
    {
     "name": "stderr",
     "output_type": "stream",
     "text": [
      "/Users/johnvirgin/miniconda3/lib/python3.9/site-packages/IPython/core/interactiveshell.py:3338: FutureWarning: arrays to stack must be passed as a \"sequence\" type such as list or tuple. Support for non-sequence iterables such as generators is deprecated as of NumPy 1.16 and will raise an error in the future.\n",
      "  if await self.run_code(code, result, async_=asy):\n"
     ]
    }
   ],
   "source": [
    "error_plot = {}\n",
    "\n",
    "for exp in adj.keys():\n",
    "    error_plot[exp] = np.stack(conffinal[exp].values(),axis=0)"
   ]
  },
  {
   "cell_type": "code",
   "execution_count": 10,
   "metadata": {},
   "outputs": [
    {
     "data": {
      "text/plain": [
       "{'x4': {'$A_{a}$': 0.24507550292998934,\n",
       "  '$A_{T-s}$': 1.280879270368758,\n",
       "  '$A_{P}$': -1.5228185459132733,\n",
       "  '$A_{lr}$': 0.010394144244096576,\n",
       "  '$A_{wv}$': 0.23567090855769945,\n",
       "  '$A_{c-lw}$': -0.262002517941548,\n",
       "  '$A_{c-sw}$': 2.1832662811096992,\n",
       "  '$A_{net}$': 2.170465043355421},\n",
       " 'sol': {'$A_{a}$': -0.16848829567799245,\n",
       "  '$A_{T-s}$': 0.2314532232631977,\n",
       "  '$A_{P}$': 0.8020804167917001,\n",
       "  '$A_{lr}$': 0.3952846086756641,\n",
       "  '$A_{wv}$': -0.5822780046616367,\n",
       "  '$A_{c-lw}$': 0.26633717034754806,\n",
       "  '$A_{c-sw}$': 0.11284728275619867,\n",
       "  '$A_{net}$': 1.0572364014946793},\n",
       " 'net': {'$A_{a}$': 0.0765872072519968,\n",
       "  '$A_{T-s}$': 1.5123324936319553,\n",
       "  '$A_{P}$': -0.7207381291215731,\n",
       "  '$A_{lr}$': 0.4056787529197606,\n",
       "  '$A_{wv}$': -0.3466070961039373,\n",
       "  '$A_{c-lw}$': 0.004334652406000144,\n",
       "  '$A_{c-sw}$': 2.2961135638658976,\n",
       "  '$A_{net}$': 3.2277014448501}}"
      ]
     },
     "execution_count": 10,
     "metadata": {},
     "output_type": "execute_result"
    }
   ],
   "source": [
    "p1final"
   ]
  },
  {
   "cell_type": "code",
   "execution_count": 13,
   "metadata": {},
   "outputs": [
    {
     "data": {
      "image/png": "[encoded data removed]",
      "text/plain": [
       "<Figure size 1500x1500 with 1 Axes>"
      ]
     },
     "metadata": {
      "needs_background": "light"
     },
     "output_type": "display_data"
    }
   ],
   "source": [
    "plt.figure(figsize=(7.5,7.5),dpi=200)\n",
    "\n",
    "plt.subplot(211)\n",
    "plt.bar(np.arange(8),list(p1final['x4'].values()), width=0.3,align='edge',edgecolor='k', color='red', yerr=error_plot['x4'], capsize=5, alpha=1, label = '4xCO$_{2}$$_{\\mathrm{(f)}}$')\n",
    "plt.bar(np.arange(8),list(p1final['sol'].values()), width=-0.3,align='edge',edgecolor='k', color='blue', yerr=error_plot['sol'], capsize=5,alpha=1, label = 'SOL$_{\\mathrm{f}}$')\n",
    "plt.axhline(0,color='k',linestyle = '--')\n",
    "plt.axvline(6.5,color='k')\n",
    "plt.grid(axis='y')\n",
    "plt.legend(ncol=2)\n",
    "plt.ylabel('Wm$^{-2}$')\n",
    "plt.xticks(np.arange(8),labels = list(p1final['x4'].keys()));\n",
    "\n",
    "plt.savefig('adj_bar.png',bbox_inches='tight')"
   ]
  },
  {
   "cell_type": "code",
   "execution_count": null,
   "metadata": {},
   "outputs": [],
   "source": []
  },
  {
   "cell_type": "code",
   "execution_count": null,
   "metadata": {},
   "outputs": [],
   "source": []
  },
  {
   "cell_type": "code",
   "execution_count": null,
   "metadata": {},
   "outputs": [],
   "source": []
  }
 ],
 "metadata": {
  "kernelspec": {
   "display_name": "base",
   "language": "python",
   "name": "python3"
  },
  "language_info": {
   "codemirror_mode": {
    "name": "ipython",
    "version": 3
   },
   "file_extension": ".py",
   "mimetype": "text/x-python",
   "name": "python",
   "nbconvert_exporter": "python",
   "pygments_lexer": "ipython3",
   "version": "3.9.12"
  },
  "orig_nbformat": 4
 },
 "nbformat": 4,
 "nbformat_minor": 2
}
